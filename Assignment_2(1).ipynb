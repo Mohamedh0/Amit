{
  "cells": [
    {
      "cell_type": "markdown",
      "metadata": {
        "id": "Ui8LKXjlii3V"
      },
      "source": [
        "### 1) Write a program to print the maximum between two numbers. (one-line conditional statement)\n"
      ]
    },
    {
      "cell_type": "code",
      "execution_count": 2,
      "metadata": {},
      "outputs": [
        {
          "name": "stdout",
          "output_type": "stream",
          "text": [
            "2 is greater than 1\n"
          ]
        }
      ],
      "source": [
        "x=int(input(\"Enter a first number: \"))\n",
        "y=int(input(\"Enter a second number: \"))\n",
        "res=f\"{x} is greater than {y}\" if x>y else f\"{y} is greater than {x}\"\n",
        "print(res)"
      ]
    },
    {
      "cell_type": "markdown",
      "metadata": {
        "id": "xQB_yP4rirZS"
      },
      "source": [
        "### 2) Write a program to find the maximum between three numbers.\n"
      ]
    },
    {
      "cell_type": "code",
      "execution_count": null,
      "metadata": {},
      "outputs": [],
      "source": [
        "#First solution\n",
        "List_1=list(map(int,input(\"Enter three numbers and seperate between them with space : \").split()))\n",
        "Max_num=max(List_1[:3])\n",
        "print(f\"{Max_num} is the maximum number.\")\n",
        "print('-'*25)\n",
        "#Second solution \n",
        "max_num=max([int(input(\"Enter the number:\")) for _ in range(3)])\n",
        "print(f\"{max_num} is the maximum number.\")"
      ]
    },
    {
      "cell_type": "markdown",
      "metadata": {
        "id": "di3xEq8mjBRK"
      },
      "source": [
        "### 3) Write a program to check whether a number is negative, or positive (one-line conditional statement)\n"
      ]
    },
    {
      "cell_type": "code",
      "execution_count": null,
      "metadata": {},
      "outputs": [],
      "source": [
        "num=int(input(\"Enter the number\"))\n",
        "print(f\"Is positive\" if num>0 else(f\"Is negative\" if num <0 else f\"Is zero\"))"
      ]
    },
    {
      "cell_type": "markdown",
      "metadata": {
        "id": "grc5Gk_RjFBe"
      },
      "source": [
        "### 4) Write a  program to check whether a number is even or odd  (one-line statement).\n"
      ]
    },
    {
      "cell_type": "code",
      "execution_count": null,
      "metadata": {},
      "outputs": [],
      "source": [
        "#First solution\n",
        "num1=int(input(\"Enter a number: \"))\n",
        "print(f\"{num1} is even\" if num1%2==0 else f\"{num1} is odd\")\n",
        "print('-'*15)\n",
        "#Second solution\n",
        "num2=int(input(\"Enter a number: \"))\n",
        "print(f\"{num2} is odd\" if num2&1  else f\"{num2} is even\")"
      ]
    },
    {
      "cell_type": "markdown",
      "metadata": {
        "id": "JeN4yaIMjNlC"
      },
      "source": [
        "### 5) Write a  program to store the weekdays in a list and access the week day and print it by index.\n"
      ]
    },
    {
      "cell_type": "code",
      "execution_count": null,
      "metadata": {},
      "outputs": [],
      "source": [
        "weekdays=['Saturday','Sunday','Monday','Tuesday','Wedensday','Thursday','Friday']\n",
        "day=int(input(\"Enter the number of the day: \"))\n",
        "while True:\n",
        "    if day<=7 and day>=1:\n",
        "        print(f\"The day is {weekdays[day-1]}\")\n",
        "        break;\n",
        "    else:\n",
        "        print(\"Please enter the number in range 1 to 7.\")\n",
        "        day=int(input(\"Enter the number of the day: \"))"
      ]
    },
    {
      "cell_type": "markdown",
      "metadata": {
        "id": "PkPPTrivjran"
      },
      "source": [
        "### 6)Write a program to store numbers in the List and print its reverse"
      ]
    },
    {
      "cell_type": "code",
      "execution_count": null,
      "metadata": {},
      "outputs": [],
      "source": [
        "#First solution\n",
        "List_1=list(map(int,input(\"Enter numbers and seperate between them with space : \").split()))\n",
        "print(List_1[::-1])\n",
        "print('-'*25)\n",
        "#Second solution \n",
        "n=int(input(\"Enter the size of the list: \"))\n",
        "List_2=[int(input(\"Enter a number\")) for _ in range(n)][::-1]\n",
        "print(List_2)"
      ]
    },
    {
      "cell_type": "markdown",
      "metadata": {
        "id": "2JoHNIaCj7fR"
      },
      "source": [
        "### 7) Write a program to print the multiplcation table of any number"
      ]
    },
    {
      "cell_type": "code",
      "execution_count": null,
      "metadata": {},
      "outputs": [],
      "source": [
        "num=int(input(\"Enter the number: \"))\n",
        "for i in range(13):\n",
        "    print(f\"{num} * {i} = {num * i}\")"
      ]
    },
    {
      "cell_type": "markdown",
      "metadata": {
        "id": "WTIX9yh1kLs-"
      },
      "source": [
        "### 8) Write a program to print all even numbers between 1 to 100.(using while loop and for loop)"
      ]
    },
    {
      "cell_type": "code",
      "execution_count": null,
      "metadata": {},
      "outputs": [],
      "source": [
        "#First solution\n",
        "evens1=[i for i in range(0,101,2)]\n",
        "print(evens1)\n",
        "print('-'*200)\n",
        "#Second solution\n",
        "i = 0\n",
        "while i<=100:\n",
        "    if i%2==0:\n",
        "        print(i,end=\" \")\n",
        "    i+=1"
      ]
    }
  ],
  "metadata": {
    "colab": {
      "private_outputs": true,
      "provenance": []
    },
    "kernelspec": {
      "display_name": "Python 3",
      "name": "python3"
    },
    "language_info": {
      "codemirror_mode": {
        "name": "ipython",
        "version": 3
      },
      "file_extension": ".py",
      "mimetype": "text/x-python",
      "name": "python",
      "nbconvert_exporter": "python",
      "pygments_lexer": "ipython3",
      "version": "3.12.4"
    }
  },
  "nbformat": 4,
  "nbformat_minor": 0
}
