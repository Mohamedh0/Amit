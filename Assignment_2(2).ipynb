{
 "cells": [
  {
   "cell_type": "markdown",
   "metadata": {},
   "source": [
    "### 1)Write a Python program to add an item to a tuple"
   ]
  },
  {
   "cell_type": "code",
   "execution_count": null,
   "metadata": {},
   "outputs": [],
   "source": [
    "tu1=tuple(input(\"Enter the items of the tuples\").split())\n",
    "x=input(\"Enter the item you want to add: \")\n",
    "new_tuple=tu1+(x,)\n",
    "print(new_tuple)"
   ]
  },
  {
   "cell_type": "markdown",
   "metadata": {},
   "source": [
    "### 2)Write a Python program to sum all the items in a list"
   ]
  },
  {
   "cell_type": "code",
   "execution_count": null,
   "metadata": {},
   "outputs": [],
   "source": [
    "List_1=list(map(float,input().split()))\n",
    "res=sum(List_1)\n",
    "print(f\"The sum of the list is {res}\")"
   ]
  },
  {
   "cell_type": "markdown",
   "metadata": {},
   "source": [
    "### 3)Write a Python program to multiply all the items in a list"
   ]
  },
  {
   "cell_type": "code",
   "execution_count": null,
   "metadata": {},
   "outputs": [],
   "source": [
    "List_2=list(map(float,input().split()))\n",
    "total=1\n",
    "for i in List_1:\n",
    "    total*=i\n",
    "print(total)"
   ]
  },
  {
   "cell_type": "markdown",
   "metadata": {},
   "source": [
    "### 4)Write a Python program to get the smallest number from a list"
   ]
  },
  {
   "cell_type": "code",
   "execution_count": null,
   "metadata": {},
   "outputs": [],
   "source": [
    "List_3=list(map(float,input().split()))\n",
    "small_num=min(List_3)\n",
    "print(f\"The smallest number is {small_num}\")"
   ]
  },
  {
   "cell_type": "markdown",
   "metadata": {},
   "source": [
    "### 5)Write a Python program to get the largest number from a list"
   ]
  },
  {
   "cell_type": "code",
   "execution_count": 12,
   "metadata": {},
   "outputs": [
    {
     "name": "stdout",
     "output_type": "stream",
     "text": [
      "The largest number is 80.0\n"
     ]
    }
   ],
   "source": [
    "List_4=list(map(float,input().split()))\n",
    "max_num=max(List_4)\n",
    "print(f\"The largest number is {max_num}\")"
   ]
  },
  {
   "cell_type": "markdown",
   "metadata": {},
   "source": [
    "### 6)Write a Python program to count the number of strings from a given list of strings"
   ]
  },
  {
   "cell_type": "code",
   "execution_count": null,
   "metadata": {},
   "outputs": [],
   "source": [
    "List_5=input(\"Enter the elemnets separated by space: \").split()\n",
    "count = 0\n",
    "for item in List_5:\n",
    "    if item.isdigit() or item==\" \":\n",
    "        continue\n",
    "    else:\n",
    "        count+=1\n",
    "print(f\"The number of strings is {count}\")"
   ]
  },
  {
   "cell_type": "markdown",
   "metadata": {},
   "source": [
    "### 7)Write a Python program to clone or copy a list"
   ]
  },
  {
   "cell_type": "code",
   "execution_count": null,
   "metadata": {},
   "outputs": [],
   "source": [
    "List_5=input(\"Enter the list separated by the items by space: \").split()\n",
    "New_list=List_5[:]\n",
    "print(List_5)\n",
    "print(New_list)"
   ]
  },
  {
   "cell_type": "markdown",
   "metadata": {},
   "source": [
    "### 8)Write a Python program to remove item(s) from a given set"
   ]
  },
  {
   "cell_type": "code",
   "execution_count": 1,
   "metadata": {},
   "outputs": [
    {
     "name": "stdout",
     "output_type": "stream",
     "text": [
      "{'4'}\n",
      "The set after removal {'4'}\n"
     ]
    }
   ],
   "source": [
    "set_1=set(input(\"Enter the items for your set: \").split())\n",
    "print(set_1)\n",
    "set_2=set(input(\"Enter item or items you want to remove form the previous set: \").split())\n",
    "set_3=set_1-set_2\n",
    "print(f\"The set after removal {set_3}\")"
   ]
  },
  {
   "cell_type": "markdown",
   "metadata": {},
   "source": [
    "### 9)Write a Python program to check if a set is a subset of another set"
   ]
  },
  {
   "cell_type": "code",
   "execution_count": null,
   "metadata": {},
   "outputs": [],
   "source": [
    "set_1 = set(input(\"Enter the items for first set: \").split())\n",
    "set_2 = set(input(\"Enter the items for second set: \").split())\n",
    "print(\"The second set is a subset\" if set_2.issubset(set_1) else \"It's not a subset\")"
   ]
  },
  {
   "cell_type": "markdown",
   "metadata": {},
   "source": [
    "### 10)Write a Python program to remove all elements from a given set"
   ]
  },
  {
   "cell_type": "code",
   "execution_count": null,
   "metadata": {},
   "outputs": [],
   "source": [
    "my_set = set(input(\"Enter the items for the set: \").split())\n",
    "my_set.clear()\n",
    "print(my_set)"
   ]
  },
  {
   "cell_type": "markdown",
   "metadata": {},
   "source": [
    "### 11)Write a Python program to find the maximum and minimum values in a set"
   ]
  },
  {
   "cell_type": "code",
   "execution_count": null,
   "metadata": {},
   "outputs": [],
   "source": [
    "my_set=set(map(float,input(\"Enter the items for the set separated by space: \").split()))\n",
    "max_value=max(my_set)\n",
    "min_value=min(my_set)\n",
    "print(f\"The maximum value is {max_value} and the minimum value is {min_value}\")"
   ]
  },
  {
   "cell_type": "markdown",
   "metadata": {},
   "source": [
    "### 12)Write a Python program to find the index of an item in a tuple"
   ]
  },
  {
   "cell_type": "code",
   "execution_count": null,
   "metadata": {},
   "outputs": [],
   "source": [
    "my_tuple=tuple(input(\"Enter the items for your tuple separated by space: \"))\n",
    "item=input(\"Enter the item whose idex you want to know: \")\n",
    "try:\n",
    "    Index=my_tuple.index(item)\n",
    "    print(f\"The {item} is at index {Index}\")\n",
    "except ValueError:\n",
    "    print(f\"{item} is not in the tuple\")"
   ]
  },
  {
   "cell_type": "markdown",
   "metadata": {},
   "source": [
    "### 13)Write a Python program to convert a tuple to a dictionary"
   ]
  },
  {
   "cell_type": "code",
   "execution_count": null,
   "metadata": {},
   "outputs": [],
   "source": [
    "# If I have the tuples\n",
    "tuples=(('key1','value1'),('key2','value2'),('key3','value3'))\n",
    "ans=dict(tuples)\n",
    "print(ans)\n",
    "print('-'*50)\n",
    "# If I take the input from user\n",
    "num_of_pairs=int(input(\"Enter the number of pairs: \"))\n",
    "ls=[]\n",
    "for _ in range(num_of_pairs):\n",
    "    key=input(\"Enter your key: \")\n",
    "    value=input(\"Enter your value: \")\n",
    "    ls.append((key,value))\n",
    "tu=tuple(ls)\n",
    "res=dict(tu)\n",
    "print(res)"
   ]
  },
  {
   "cell_type": "markdown",
   "metadata": {},
   "source": [
    "### 14)Write a Python program to unzip a list of tuples into individual lists"
   ]
  },
  {
   "cell_type": "code",
   "execution_count": null,
   "metadata": {},
   "outputs": [],
   "source": [
    "num_pairs=int(input(\"Enter the number of pairs: \"))\n",
    "ls=[]\n",
    "for _ in range(num_pairs):\n",
    "    item1,item2=input(\"Enter two items: \").split()\n",
    "    ls.append((item1,item2))\n",
    "ls1,ls2=zip(*ls)\n",
    "print(list(ls1))\n",
    "print(list(ls2))"
   ]
  },
  {
   "cell_type": "markdown",
   "metadata": {},
   "source": [
    "### 15)Write a Python program to reverse a tuple"
   ]
  },
  {
   "cell_type": "code",
   "execution_count": null,
   "metadata": {},
   "outputs": [],
   "source": [
    "tu=tuple(input(\"Enter the elements of the tuple and sperate them with space: \").split())\n",
    "print(tu[::-1])\n"
   ]
  },
  {
   "cell_type": "markdown",
   "metadata": {},
   "source": [
    "### 16)Write a Python program to convert a list of tuples into a dictionary"
   ]
  },
  {
   "cell_type": "code",
   "execution_count": null,
   "metadata": {},
   "outputs": [],
   "source": [
    "ls=[('key1','value1'),('key2','value2'),('key3','value3')]\n",
    "print(dict(ls))"
   ]
  },
  {
   "cell_type": "markdown",
   "metadata": {},
   "source": [
    "### 17)Write a Python program to replace the last value of tuples in a list"
   ]
  },
  {
   "cell_type": "code",
   "execution_count": null,
   "metadata": {},
   "outputs": [],
   "source": [
    "ls=[(10, 20, 40), (40, 50, 60), (70, 80, 90)]\n",
    "ls=[(x,y,100) for x,y,z in ls]\n",
    "print(ls)"
   ]
  },
  {
   "cell_type": "markdown",
   "metadata": {},
   "source": [
    "### 18)Write a Python program to sort a tuple by its float element"
   ]
  },
  {
   "cell_type": "markdown",
   "metadata": {},
   "source": []
  }
 ],
 "metadata": {
  "kernelspec": {
   "display_name": "Python 3",
   "language": "python",
   "name": "python3"
  },
  "language_info": {
   "codemirror_mode": {
    "name": "ipython",
    "version": 3
   },
   "file_extension": ".py",
   "mimetype": "text/x-python",
   "name": "python",
   "nbconvert_exporter": "python",
   "pygments_lexer": "ipython3",
   "version": "3.12.4"
  }
 },
 "nbformat": 4,
 "nbformat_minor": 2
}
