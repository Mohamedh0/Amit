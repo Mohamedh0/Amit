{
 "cells": [
  {
   "cell_type": "markdown",
   "metadata": {},
   "source": [
    "### 1) Implement Fibonacci series"
   ]
  },
  {
   "cell_type": "code",
   "execution_count": null,
   "metadata": {},
   "outputs": [],
   "source": [
    "def Fib(x,memo={}):\n",
    "    if x==1 or x==0:\n",
    "        return x\n",
    "    if x in memo:\n",
    "        return memo[x]\n",
    "    memo[x]=Fib(x-1,memo)+Fib(x-2,memo)\n",
    "    return memo[x]\n",
    "\n",
    "Fib(1500)"
   ]
  },
  {
   "cell_type": "markdown",
   "metadata": {},
   "source": [
    "### 2)Unique words"
   ]
  },
  {
   "cell_type": "code",
   "execution_count": null,
   "metadata": {},
   "outputs": [],
   "source": [
    "ls=['No','Yes','No','No','Yes','Mohamed','Hisham','Hisham','Welcome','Alex','Welcome']\n",
    "def unique_words(s):\n",
    "    st=set(s)\n",
    "    for word in st:\n",
    "        print(f\"{word} appeared {ls.count(word)}\")\n",
    "\n",
    "unique_words(ls)"
   ]
  },
  {
   "cell_type": "markdown",
   "metadata": {},
   "source": [
    "### 3)Find all pairs"
   ]
  },
  {
   "cell_type": "code",
   "execution_count": null,
   "metadata": {},
   "outputs": [],
   "source": [
    "num=int(input(\"Enter the number: \"))\n",
    "ls=[(1,2),(3,4),(2,5),(3,7)]\n",
    "def find_pairs(num,ls):\n",
    "    new_ls=[]\n",
    "    for i in ls:\n",
    "        if sum(i)==num:\n",
    "            new_ls.append(i)\n",
    "    return new_ls\n",
    "\n",
    "find_pairs(num,ls)\n"
   ]
  },
  {
   "cell_type": "markdown",
   "metadata": {},
   "source": [
    "### 4)The greatest product"
   ]
  },
  {
   "cell_type": "code",
   "execution_count": null,
   "metadata": {},
   "outputs": [],
   "source": [
    "def max_product_pair(nums):\n",
    "    if len(nums) < 2:\n",
    "        return None, None \n",
    "    max_product = nums[0] * nums[1]\n",
    "    pair = (nums[0], nums[1])\n",
    "    for i in range(len(nums)):\n",
    "        for j in range(i+1, len(nums)):\n",
    "            product = nums[i] * nums[j]\n",
    "            if product > max_product:\n",
    "                max_product = product\n",
    "                pair = (nums[i], nums[j])\n",
    "    return pair\n",
    "\n",
    "numbers = [10, 20, 30, 40, 50]\n",
    "pair = max_product_pair(numbers)\n",
    "print(f\"The pair with the maximum product is: {pair} and their product is: {pair[0] * pair[1]}\")\n"
   ]
  },
  {
   "cell_type": "markdown",
   "metadata": {},
   "source": [
    "### 5)Prime checker"
   ]
  },
  {
   "cell_type": "code",
   "execution_count": null,
   "metadata": {},
   "outputs": [],
   "source": [
    "import math \n",
    "def Prime_checker(x):\n",
    "    if x==1:\n",
    "        return \"Not prime\"\n",
    "    elif x==2 or x==3:\n",
    "        return \"Prime\"\n",
    "    else:\n",
    "        c=0  \n",
    "        for i in range(2,int(math.sqrt(x))+1):\n",
    "            if x%i==0:\n",
    "                c+=1\n",
    "        if c==0:\n",
    "            return \"Prime\"\n",
    "        else:\n",
    "            return \"Not Prime\"\n",
    "\n",
    "Prime_checker(13)"
   ]
  },
  {
   "cell_type": "markdown",
   "metadata": {},
   "source": [
    "### 6)Even numbers"
   ]
  },
  {
   "cell_type": "code",
   "execution_count": null,
   "metadata": {},
   "outputs": [],
   "source": [
    "def even_nums(x):\n",
    "    return [i for i in x if i%2==0]\n",
    "nums=[1,2,3,4,5,6,7,8,9,10,11,12]\n",
    "\n",
    "even_nums(nums)"
   ]
  },
  {
   "cell_type": "markdown",
   "metadata": {},
   "source": [
    "### 7)Reverse string"
   ]
  },
  {
   "cell_type": "code",
   "execution_count": null,
   "metadata": {},
   "outputs": [],
   "source": [
    "def Reverse(s):\n",
    "    s=s.split()\n",
    "    return f\"{s[1]} {s[0]}\"\n",
    "Reverse(\"Hello World\")"
   ]
  },
  {
   "cell_type": "markdown",
   "metadata": {},
   "source": [
    "### 8)Palindroma"
   ]
  },
  {
   "cell_type": "code",
   "execution_count": null,
   "metadata": {},
   "outputs": [],
   "source": [
    "def Palindroma(x):\n",
    "    x=str(abs(x))\n",
    "    return x==x[::-1]\n",
    "x=int(input())\n",
    "Palindroma(x)"
   ]
  },
  {
   "cell_type": "markdown",
   "metadata": {},
   "source": [
    "### 9)Palindroma String"
   ]
  },
  {
   "cell_type": "code",
   "execution_count": null,
   "metadata": {},
   "outputs": [],
   "source": [
    "Palindroma_string=lambda s : s==s[::-1]\n",
    "\n",
    "print(Palindroma_string(\"racecar\"))   \n",
    "print(Palindroma_string(\"geeks\"))  "
   ]
  },
  {
   "cell_type": "markdown",
   "metadata": {},
   "source": [
    "### 10)last question"
   ]
  },
  {
   "cell_type": "code",
   "execution_count": null,
   "metadata": {},
   "outputs": [],
   "source": [
    "def Square_numbers():\n",
    "    return [i**2 for i in range(31)]\n",
    "\n",
    "print(Square_numbers())"
   ]
  }
 ],
 "metadata": {
  "kernelspec": {
   "display_name": "Python 3",
   "language": "python",
   "name": "python3"
  },
  "language_info": {
   "codemirror_mode": {
    "name": "ipython",
    "version": 3
   },
   "file_extension": ".py",
   "mimetype": "text/x-python",
   "name": "python",
   "nbconvert_exporter": "python",
   "pygments_lexer": "ipython3",
   "version": "3.12.4"
  }
 },
 "nbformat": 4,
 "nbformat_minor": 2
}
