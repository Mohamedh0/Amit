{
  "cells": [
    {
      "cell_type": "markdown",
      "metadata": {
        "id": "9NXyYtIAQuIG"
      },
      "source": [
        "# Python program to interchange first and last elements in a list\n"
      ]
    },
    {
      "cell_type": "markdown",
      "metadata": {
        "id": "Y8j1uUT8Q6Xf"
      },
      "source": [
        "- Examples\n",
        "\n",
        "- Input : [12, 35, 9, 56, 24]\n",
        "- Output : [24, 35, 9, 56, 12]\n",
        "\n",
        "- Input : [1, 2, 3]\n",
        "- Output : [3, 2, 1]"
      ]
    },
    {
      "cell_type": "code",
      "execution_count": null,
      "metadata": {},
      "outputs": [],
      "source": [
        "ls=list(map(int,input(\"Enter the elements:\").split()))\n",
        "temp=ls[0]\n",
        "ls[0]=ls[-1]\n",
        "ls[-1]=temp\n",
        "print(ls)"
      ]
    },
    {
      "cell_type": "markdown",
      "metadata": {
        "id": "h-yd-gv7RnYW"
      },
      "source": [
        "### Find the Length of a List in Python\n",
        "\n"
      ]
    },
    {
      "cell_type": "markdown",
      "metadata": {
        "id": "AapkQMkGRqqg"
      },
      "source": [
        "- Input: lst = [10,20,30,40]\n",
        "- Output: 4\n",
        "- Explanation: The output is 4 because thelength of the list is  4."
      ]
    },
    {
      "cell_type": "code",
      "execution_count": null,
      "metadata": {},
      "outputs": [],
      "source": [
        "List=input().split()\n",
        "print(len(List))"
      ]
    },
    {
      "cell_type": "markdown",
      "metadata": {
        "id": "Y-XZTe1ES7pJ"
      },
      "source": [
        "### Python | Find elements of a list by indices\n",
        "- Input : lst1 = [10, 20, 30, 40, 50]\n",
        "-        lst2 = [0, 2, 4]\n",
        "- Output : [10, 30, 50]"
      ]
    },
    {
      "cell_type": "code",
      "execution_count": null,
      "metadata": {},
      "outputs": [],
      "source": [
        "ls=list(map(int,input(\"Enter the elements:\").split()))\n",
        "n=len(ls)\n",
        "ls_indices=list(map(int,input(\"Enter the indices from 0 to {n}:\").split()))\n",
        "print([ls[i] for i in ls_indices])"
      ]
    },
    {
      "cell_type": "markdown",
      "metadata": {
        "id": "3fmiplSXTmN-"
      },
      "source": [
        "# Python program to find the String in a List\n"
      ]
    },
    {
      "cell_type": "markdown",
      "metadata": {
        "id": "0HdTN1z3TpYH"
      },
      "source": [
        "- Input: l=[1, 1.0, 'have', 'a', 'geeky', 'day']; s='geeky'\n",
        "- Output: True\n",
        "- Explanation: geeky is present in the input list"
      ]
    },
    {
      "cell_type": "markdown",
      "metadata": {
        "id": "PID_7zUJT-HU"
      },
      "source": [
        "\n",
        "\n",
        "```\n",
        "#  hint you can use in\n",
        "```\n",
        "\n",
        "- The in keyword is used to check if a value is present in a sequence (list, range, string etc.).\n",
        "\n"
      ]
    },
    {
      "cell_type": "code",
      "execution_count": null,
      "metadata": {
        "id": "folb7eDqUXwk"
      },
      "outputs": [],
      "source": [
        "fruits = [\"apple\", \"banana\", \"cherry\"]\n",
        "print(\"banana\" in fruits)"
      ]
    },
    {
      "cell_type": "code",
      "execution_count": null,
      "metadata": {},
      "outputs": [],
      "source": [
        "ls=input(\"Enter the elements: \").split()\n",
        "word=input(\"Enter the word: \")\n",
        "print(word in ls)"
      ]
    },
    {
      "cell_type": "markdown",
      "metadata": {
        "id": "WI5-sy7eU9Gm"
      },
      "source": [
        "## Ways to find indices of value in list\n",
        "\n",
        "\n",
        "- list of animals\n",
        "- Animals= [\"cat\", \"dog\", \"tiger\"]\n",
        "- searching positiion of dog\n",
        "- output is 1"
      ]
    },
    {
      "cell_type": "code",
      "execution_count": null,
      "metadata": {},
      "outputs": [],
      "source": [
        "animals=input(\"Enter the names of animals:\").split()\n",
        "name=input(\"Enter the name of animal you search for:\")\n",
        "print(animals.index(name))"
      ]
    },
    {
      "cell_type": "markdown",
      "metadata": {
        "id": "-WY6GZpgVjs-"
      },
      "source": [
        "### Find most frequent element in a list\n",
        "- Input : [2, 1, 2, 2, 1, 3]\n",
        "- Output : 2\n",
        "\n",
        "- Input : ['Dog', 'Cat', 'Dog']\n",
        "- Output : Dog"
      ]
    },
    {
      "cell_type": "code",
      "execution_count": null,
      "metadata": {},
      "outputs": [],
      "source": [
        "ls=input(\"Enter the elements: \").split()\n",
        "count={}\n",
        "\n",
        "for i in ls:\n",
        "    if i in count:\n",
        "        count[i]+=1\n",
        "    else:\n",
        "        count[i]=1\n",
        "most_freq=max(count,key=count.get)\n",
        "print(most_freq)"
      ]
    },
    {
      "cell_type": "markdown",
      "metadata": {
        "id": "iplk5uDKfiye"
      },
      "source": [
        "- hint you can use max in python"
      ]
    },
    {
      "cell_type": "markdown",
      "metadata": {
        "id": "-vF6f8UQZIgq"
      },
      "source": [
        "## Remove an Item from the List in Python.\n",
        "- Input: ['Rose',' Lily', 'Lotus', 'Sun', 'Sunflower']\n",
        "- Delete: 'Sun'\n",
        "- Output: ['Rose',' Lily', 'Lotus', 'Sunflower']\n",
        "- Explanation: In this, we have removed the 'Sun' element from the given list"
      ]
    },
    {
      "cell_type": "code",
      "execution_count": null,
      "metadata": {},
      "outputs": [],
      "source": [
        "words=input(\"Enter the words: \").split()\n",
        "word=input(\"Enter the word you want to remove: \")\n",
        "words.remove(word)\n",
        "print(words)"
      ]
    },
    {
      "cell_type": "markdown",
      "metadata": {
        "id": "l_YTnBftZe7V"
      },
      "source": [
        "# Remove multiple elements from a list in Python\n",
        "- Input: [12, 15, 3, 10]\n",
        "- Output: Remove = [12, 3], New_List = [15, 10]\n",
        "\n",
        "- Input: [11, 5, 17, 18, 23, 50]\n",
        "- Output: Remove = [1:5], New_list = [11, 50]"
      ]
    },
    {
      "cell_type": "code",
      "execution_count": null,
      "metadata": {},
      "outputs": [],
      "source": [
        "# For example one\n",
        "ls=list(map(int,input(\"Enter the elements of list:\").split()))\n",
        "print(ls)\n",
        "removal_elements=list(map(int,input(\"Enter the elements you want to remove from the previous list:\").split()))\n",
        "new_list=[i for i in ls if i not in removal_elements]\n",
        "print(new_list)\n",
        "print('-'*20)\n",
        "#For second example\n",
        "Ls=list(map(int,input(\"Enter the elements of list:\").split()))\n",
        "print(Ls)\n",
        "n=len(Ls)\n",
        "start,end=input(\"Enter the start and the end for removing from 0 to {n-1}:\").split()\n",
        "del Ls[int(start):int(end)]\n",
        "print(Ls)"
      ]
    },
    {
      "cell_type": "markdown",
      "metadata": {
        "id": "yYoINEUvcG4-"
      },
      "source": [
        "# python program to check whether the string is Palindrome  and get the str from user"
      ]
    },
    {
      "cell_type": "markdown",
      "metadata": {
        "id": "ARhC7ZL6cvjO"
      },
      "source": [
        "- Input : malayalam\n",
        "- Output : True\n",
        "\n",
        "- Input : geeks\n",
        "- Output : False"
      ]
    },
    {
      "cell_type": "code",
      "execution_count": null,
      "metadata": {},
      "outputs": [],
      "source": [
        "word=input(\"Enter a word: \")\n",
        "print(word==word[::-1])"
      ]
    },
    {
      "cell_type": "markdown",
      "metadata": {
        "id": "_EYlmszadOww"
      },
      "source": [
        "### Reverse Words in a Given String in Python\n",
        "- Input : str =\" geeks quiz practice code\"\n",
        "- Output : str = code practice quiz geeks  \n",
        "- Input : str = \"my name is laxmi\"\n",
        "- output : str= laxmi is name my"
      ]
    },
    {
      "cell_type": "code",
      "execution_count": null,
      "metadata": {},
      "outputs": [],
      "source": [
        "word=input(\"Enter a string: \").split()\n",
        "print(' '.join(word[::-1]))"
      ]
    },
    {
      "cell_type": "markdown",
      "metadata": {
        "id": "242TCJPleCof"
      },
      "source": [
        "### Find length of a string in python\n",
        "- Input : 'abc'\n",
        "- Output : 3\n",
        "\n",
        "- Input : 'hello world !'\n",
        "- Output : 13\n",
        "\n",
        "- Input : ' h e l   l  o '\n",
        "- Output :14"
      ]
    },
    {
      "cell_type": "code",
      "execution_count": null,
      "metadata": {},
      "outputs": [],
      "source": [
        "string =input(\"Enter string\")\n",
        "print(len(string))"
      ]
    },
    {
      "cell_type": "markdown",
      "metadata": {
        "id": "rE_STqG_fFJs"
      },
      "source": [
        "###  Avoid Spaces in string length\n",
        "\n",
        "\n",
        "```\n",
        "- string = \"Hello, world!  \"\n",
        "- with space 15\n",
        "- without space is 12\n",
        "```\n",
        "\n",
        "\n"
      ]
    },
    {
      "cell_type": "code",
      "execution_count": null,
      "metadata": {},
      "outputs": [],
      "source": [
        "string = input(\"Enter a phrase or word\")\n",
        "n=len(string)\n",
        "print(f\"With space is {n}\")\n",
        "string=string.strip()\n",
        "ans=''\n",
        "for ch in string:\n",
        "    if ch==' ':\n",
        "        continue\n",
        "    else:\n",
        "        ans+=ch\n",
        "n=len(ans)\n",
        "print(f\"Without space is {n}\")"
      ]
    },
    {
      "cell_type": "markdown",
      "metadata": {
        "id": "zRnIlNqSf3ni"
      },
      "source": [
        "-  hint you can use len in python to get len of str or list"
      ]
    },
    {
      "cell_type": "markdown",
      "metadata": {
        "id": "FebQFluegBW2"
      },
      "source": [
        "# Smallest Length String in the list\n",
        "- test_list = ['gfg', 'is', 'best', 'for', 'geeks']\n",
        "- Minimum length string is : is\n"
      ]
    },
    {
      "cell_type": "code",
      "execution_count": null,
      "metadata": {},
      "outputs": [],
      "source": [
        "ls=input(\"Enter your elements: \").split()\n",
        "print(min(ls,key=len))"
      ]
    },
    {
      "cell_type": "markdown",
      "metadata": {
        "id": "Nn_2JLRJgZ3h"
      },
      "source": [
        "-  hint you can use min in python"
      ]
    }
  ],
  "metadata": {
    "colab": {
      "private_outputs": true,
      "provenance": []
    },
    "kernelspec": {
      "display_name": "Python 3",
      "name": "python3"
    },
    "language_info": {
      "codemirror_mode": {
        "name": "ipython",
        "version": 3
      },
      "file_extension": ".py",
      "mimetype": "text/x-python",
      "name": "python",
      "nbconvert_exporter": "python",
      "pygments_lexer": "ipython3",
      "version": "3.12.4"
    }
  },
  "nbformat": 4,
  "nbformat_minor": 0
}
